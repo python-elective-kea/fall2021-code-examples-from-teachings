{
 "cells": [
  {
   "cell_type": "markdown",
   "metadata": {},
   "source": [
    "\n",
    "# Coroutines (generators)"
   ]
  },
  {
   "cell_type": "markdown",
   "metadata": {},
   "source": [
    "This is a commond way to create software:    "
   ]
  },
  {
   "cell_type": "code",
   "execution_count": 3,
   "metadata": {},
   "outputs": [],
   "source": [
    "class Api:\n",
    "    def do_this_first(self):\n",
    "        pass\n",
    "    def do_this_second(self):\n",
    "        pass\n",
    "    def do_this_third(self):\n",
    "        pass\n",
    "    def run():\n",
    "        do_this_first()\n",
    "        do_this_second()\n",
    "        do_this_third()"
   ]
  },
  {
   "cell_type": "markdown",
   "metadata": {},
   "source": [
    "the second method is dependant on the first, and the third on the second.    \n",
    "\n",
    "But what happens if we call second() first? \n",
    "\n",
    "It could be solved by calling the **run** method, but then you are not able to interact with the code in between the calls. Since it is programmed in the 3 step way it is probably intended to to work in steps.     \n",
    "\n",
    "This code runs all the way through and give you the result wich you then can use.    \n",
    "This is called a Routine / Subroutine pattern.      "
   ]
  },
  {
   "cell_type": "markdown",
   "metadata": {},
   "source": [
    "Often it can be good to use what is called a **coroutine** pattern. \n",
    "\n",
    "You get a result from a function, use it for some small task, get the next piece of code, use it and so on.     \n",
    "\n",
    "**Generators** a perfect for this kind of style.    "
   ]
  },
  {
   "cell_type": "code",
   "execution_count": 1,
   "metadata": {},
   "outputs": [],
   "source": [
    "def api():\n",
    "    yield 'do_this_first'\n",
    "    yield 'do_this_second'\n",
    "    yield 'do_this_third'"
   ]
  },
  {
   "cell_type": "code",
   "execution_count": 2,
   "metadata": {},
   "outputs": [
    {
     "data": {
      "text/plain": [
       "<generator object api at 0x7fde28c193c0>"
      ]
     },
     "execution_count": 2,
     "metadata": {},
     "output_type": "execute_result"
    }
   ],
   "source": [
    "x = api()\n",
    "x"
   ]
  },
  {
   "cell_type": "code",
   "execution_count": 3,
   "metadata": {},
   "outputs": [
    {
     "name": "stdout",
     "output_type": "stream",
     "text": [
      "Ill do_this_first and then think a bit, then call next again\n",
      "Ill do_this_second and then jump around a bit, and then call next again\n",
      "Ill do_this_third and then end my quest!\n"
     ]
    }
   ],
   "source": [
    "fi = next(x)\n",
    "print(f'Ill {fi} and then think a bit, then call next again')\n",
    "se = next(x)\n",
    "print(f'Ill {se} and then jump around a bit, and then call next again')\n",
    "th = next(x)\n",
    "print(f'Ill {th} and then end my quest!')"
   ]
  },
  {
   "cell_type": "markdown",
   "metadata": {},
   "source": [
    "### Send information back to the coroutine with send()\n",
    "By using **.send()** you can send data back to the coroutine (generator).   "
   ]
  },
  {
   "cell_type": "code",
   "execution_count": 4,
   "metadata": {},
   "outputs": [],
   "source": [
    "def simple_coroutine():\n",
    "    print('-> coroutine started')\n",
    "    x=yield\n",
    "    print(f'-> coroutine received: {x}')"
   ]
  },
  {
   "cell_type": "code",
   "execution_count": 5,
   "metadata": {},
   "outputs": [
    {
     "data": {
      "text/plain": [
       "<generator object simple_coroutine at 0x7fde28c19430>"
      ]
     },
     "execution_count": 5,
     "metadata": {},
     "output_type": "execute_result"
    }
   ],
   "source": [
    "my_coro = simple_coroutine()\n",
    "my_coro"
   ]
  },
  {
   "cell_type": "code",
   "execution_count": 6,
   "metadata": {},
   "outputs": [
    {
     "name": "stdout",
     "output_type": "stream",
     "text": [
      "-> coroutine started\n"
     ]
    }
   ],
   "source": [
    "next(my_coro)"
   ]
  },
  {
   "cell_type": "code",
   "execution_count": 7,
   "metadata": {},
   "outputs": [
    {
     "name": "stdout",
     "output_type": "stream",
     "text": [
      "-> coroutine received: 42\n"
     ]
    },
    {
     "ename": "StopIteration",
     "evalue": "",
     "output_type": "error",
     "traceback": [
      "\u001b[0;31m---------------------------------------------------------------------------\u001b[0m",
      "\u001b[0;31mStopIteration\u001b[0m                             Traceback (most recent call last)",
      "\u001b[0;32m<ipython-input-7-7c96f97a77cb>\u001b[0m in \u001b[0;36m<module>\u001b[0;34m\u001b[0m\n\u001b[0;32m----> 1\u001b[0;31m \u001b[0mmy_coro\u001b[0m\u001b[0;34m.\u001b[0m\u001b[0msend\u001b[0m\u001b[0;34m(\u001b[0m\u001b[0;36m42\u001b[0m\u001b[0;34m)\u001b[0m\u001b[0;34m\u001b[0m\u001b[0;34m\u001b[0m\u001b[0m\n\u001b[0m",
      "\u001b[0;31mStopIteration\u001b[0m: "
     ]
    }
   ],
   "source": [
    "my_coro.send(42)"
   ]
  },
  {
   "cell_type": "markdown",
   "metadata": {},
   "source": [
    "You can stop a couroutine with the .close() method."
   ]
  },
  {
   "cell_type": "code",
   "execution_count": 16,
   "metadata": {},
   "outputs": [],
   "source": [
    "def api():\n",
    "    x = 1\n",
    "    while True:\n",
    "        x = yield f'do_this_{x}'  \n",
    "x = api()"
   ]
  },
  {
   "cell_type": "code",
   "execution_count": 17,
   "metadata": {},
   "outputs": [
    {
     "data": {
      "text/plain": [
       "'do_this_1'"
      ]
     },
     "execution_count": 17,
     "metadata": {},
     "output_type": "execute_result"
    }
   ],
   "source": [
    "next(x)"
   ]
  },
  {
   "cell_type": "code",
   "execution_count": 18,
   "metadata": {},
   "outputs": [],
   "source": [
    "x.close()"
   ]
  },
  {
   "cell_type": "code",
   "execution_count": 19,
   "metadata": {
    "scrolled": true
   },
   "outputs": [
    {
     "ename": "StopIteration",
     "evalue": "",
     "output_type": "error",
     "traceback": [
      "\u001b[0;31m---------------------------------------------------------------------------\u001b[0m",
      "\u001b[0;31mStopIteration\u001b[0m                             Traceback (most recent call last)",
      "\u001b[0;32m<ipython-input-19-bfcb15e5ef2b>\u001b[0m in \u001b[0;36m<module>\u001b[0;34m\u001b[0m\n\u001b[0;32m----> 1\u001b[0;31m \u001b[0mx\u001b[0m\u001b[0;34m.\u001b[0m\u001b[0msend\u001b[0m\u001b[0;34m(\u001b[0m\u001b[0;36m13\u001b[0m\u001b[0;34m)\u001b[0m\u001b[0;34m\u001b[0m\u001b[0;34m\u001b[0m\u001b[0m\n\u001b[0m",
      "\u001b[0;31mStopIteration\u001b[0m: "
     ]
    }
   ],
   "source": [
    "x.send(13)"
   ]
  },
  {
   "cell_type": "code",
   "execution_count": 12,
   "metadata": {},
   "outputs": [
    {
     "data": {
      "text/plain": [
       "'do_this_Hello'"
      ]
     },
     "execution_count": 12,
     "metadata": {},
     "output_type": "execute_result"
    }
   ],
   "source": [
    "x.send('Hello')"
   ]
  },
  {
   "cell_type": "code",
   "execution_count": 14,
   "metadata": {},
   "outputs": [
    {
     "ename": "StopIteration",
     "evalue": "",
     "output_type": "error",
     "traceback": [
      "\u001b[0;31m---------------------------------------------------------------------------\u001b[0m",
      "\u001b[0;31mStopIteration\u001b[0m                             Traceback (most recent call last)",
      "\u001b[0;32m<ipython-input-14-28adcd2d1b82>\u001b[0m in \u001b[0;36m<module>\u001b[0;34m\u001b[0m\n\u001b[0;32m----> 1\u001b[0;31m \u001b[0mx\u001b[0m\u001b[0;34m.\u001b[0m\u001b[0msend\u001b[0m\u001b[0;34m(\u001b[0m\u001b[0;36m44\u001b[0m\u001b[0;34m)\u001b[0m\u001b[0;34m\u001b[0m\u001b[0;34m\u001b[0m\u001b[0m\n\u001b[0m",
      "\u001b[0;31mStopIteration\u001b[0m: "
     ]
    }
   ],
   "source": [
    "x.send(44)"
   ]
  },
  {
   "cell_type": "code",
   "execution_count": 20,
   "metadata": {},
   "outputs": [],
   "source": [
    "def averager(*args):\n",
    "     sum = 0\n",
    "     for i in args:\n",
    "            sum += i\n",
    "     return sum/len(args)"
   ]
  },
  {
   "cell_type": "code",
   "execution_count": 21,
   "metadata": {},
   "outputs": [
    {
     "data": {
      "text/plain": [
       "3.0"
      ]
     },
     "execution_count": 21,
     "metadata": {},
     "output_type": "execute_result"
    }
   ],
   "source": [
    "averager(1, 2, 3, 4, 5)"
   ]
  },
  {
   "cell_type": "code",
   "execution_count": 27,
   "metadata": {},
   "outputs": [],
   "source": [
    "def averager(): \n",
    "    total = 0.0\n",
    "    count = 0 \n",
    "    average = None \n",
    "    while True:\n",
    "        term = yield average \n",
    "        total += term\n",
    "        count += 1\n",
    "        average = total/count"
   ]
  },
  {
   "cell_type": "code",
   "execution_count": 29,
   "metadata": {},
   "outputs": [
    {
     "name": "stdout",
     "output_type": "stream",
     "text": [
      "None\n"
     ]
    }
   ],
   "source": [
    "x = averager()\n",
    "next(x)"
   ]
  },
  {
   "cell_type": "code",
   "execution_count": 31,
   "metadata": {},
   "outputs": [
    {
     "data": {
      "text/plain": [
       "20.0"
      ]
     },
     "execution_count": 31,
     "metadata": {},
     "output_type": "execute_result"
    }
   ],
   "source": [
    "x.send(20)"
   ]
  },
  {
   "cell_type": "code",
   "execution_count": 32,
   "metadata": {},
   "outputs": [
    {
     "data": {
      "text/plain": [
       "25.5"
      ]
     },
     "execution_count": 32,
     "metadata": {},
     "output_type": "execute_result"
    }
   ],
   "source": [
    "x.send(31)"
   ]
  },
  {
   "cell_type": "code",
   "execution_count": 61,
   "metadata": {},
   "outputs": [],
   "source": [
    "def averager():\n",
    "    args = []\n",
    "    x = 0\n",
    "    sum = 1\n",
    "    while True:\n",
    "        x = yield x\n",
    "        args.append(x)\n",
    "        sum = 0\n",
    "        for i in args:\n",
    "            sum += i\n",
    "        x = sum/len(args)\n",
    "    "
   ]
  },
  {
   "cell_type": "code",
   "execution_count": 62,
   "metadata": {},
   "outputs": [
    {
     "data": {
      "text/plain": [
       "10.0"
      ]
     },
     "execution_count": 62,
     "metadata": {},
     "output_type": "execute_result"
    }
   ],
   "source": [
    "x = averager()\n",
    "next(x)\n",
    "x.send(10)\n"
   ]
  },
  {
   "cell_type": "code",
   "execution_count": 63,
   "metadata": {},
   "outputs": [
    {
     "data": {
      "text/plain": [
       "15.0"
      ]
     },
     "execution_count": 63,
     "metadata": {},
     "output_type": "execute_result"
    }
   ],
   "source": [
    "x.send(20)"
   ]
  },
  {
   "cell_type": "code",
   "execution_count": 66,
   "metadata": {},
   "outputs": [
    {
     "data": {
      "text/plain": [
       "40.0"
      ]
     },
     "execution_count": 66,
     "metadata": {},
     "output_type": "execute_result"
    }
   ],
   "source": [
    "x.send(100)"
   ]
  },
  {
   "cell_type": "code",
   "execution_count": 78,
   "metadata": {},
   "outputs": [],
   "source": [
    "def secret():\n",
    "    while True:\n",
    "        x = yield \n",
    "        if x == 12:\n",
    "            print('you guesed right!')\n",
    "            \n",
    "        \n",
    "        "
   ]
  },
  {
   "cell_type": "code",
   "execution_count": 79,
   "metadata": {},
   "outputs": [],
   "source": [
    "x = secret()\n",
    "next(x)\n",
    "x.send(13)"
   ]
  },
  {
   "cell_type": "code",
   "execution_count": 80,
   "metadata": {},
   "outputs": [
    {
     "name": "stdout",
     "output_type": "stream",
     "text": [
      "you guesed right!\n"
     ]
    }
   ],
   "source": [
    "x.send(12)"
   ]
  },
  {
   "cell_type": "markdown",
   "metadata": {
    "slideshow": {
     "slide_type": "slide"
    }
   },
   "source": [
    "# Context managers"
   ]
  },
  {
   "cell_type": "code",
   "execution_count": null,
   "metadata": {},
   "outputs": [],
   "source": []
  },
  {
   "cell_type": "markdown",
   "metadata": {},
   "source": [
    "You have all seen this pattern: "
   ]
  },
  {
   "cell_type": "code",
   "execution_count": 27,
   "metadata": {},
   "outputs": [
    {
     "name": "stdout",
     "output_type": "stream",
     "text": [
      "An expert is a person who has made all the mistakes that can be made in a very narrow field.\n",
      "\n"
     ]
    }
   ],
   "source": [
    "f = open('testfiles/bohr.txt', 'r')\n",
    "print(f.readline())\n",
    "f.close()"
   ]
  },
  {
   "cell_type": "markdown",
   "metadata": {},
   "source": [
    "Or this (which does the same thing):"
   ]
  },
  {
   "cell_type": "code",
   "execution_count": 28,
   "metadata": {},
   "outputs": [
    {
     "name": "stdout",
     "output_type": "stream",
     "text": [
      "An expert is a person who has made all the mistakes that can be made in a very narrow field.\n",
      "\n"
     ]
    }
   ],
   "source": [
    "with open('testfiles/bohr.txt', 'r') as f:\n",
    "    print(f.readline())\n"
   ]
  },
  {
   "cell_type": "markdown",
   "metadata": {},
   "source": [
    "This \"**with**\" approach follows the Context Manager protocol.    \n",
    "\n",
    "This is a convenient alternative to writing:"
   ]
  },
  {
   "cell_type": "code",
   "execution_count": 13,
   "metadata": {},
   "outputs": [
    {
     "name": "stdout",
     "output_type": "stream",
     "text": [
      "An expert is a person who has made all the mistakes that can be made in a very narrow field.\n",
      "\n"
     ]
    }
   ],
   "source": [
    "try:\n",
    "    f = open('testfiles/bohr.txt', 'r')\n",
    "    print(f.readline())\n",
    "finally:\n",
    "    f.close()"
   ]
  },
  {
   "cell_type": "markdown",
   "metadata": {},
   "source": [
    "We will look at how this works, and we will write or own Context manager that follow the protocol. "
   ]
  },
  {
   "cell_type": "markdown",
   "metadata": {},
   "source": [
    "The problem with not closing files can be demonstarted like this:"
   ]
  },
  {
   "cell_type": "code",
   "execution_count": 29,
   "metadata": {},
   "outputs": [],
   "source": [
    "# do not run this on windows\n",
    "\n",
    "files = []\n",
    "for x in range(1000):\n",
    "    files.append(open('testfiles/bohr.txt', 'r'))\n",
    "\n",
    "# You will get an error about to many open files."
   ]
  },
  {
   "cell_type": "markdown",
   "metadata": {
    "slideshow": {
     "slide_type": "slide"
    }
   },
   "source": [
    "## Basic Context Managers\n",
    "The context manager protocol consists of an \n",
    "* **\\_\\_enter__** and an \n",
    "* **\\_\\_exit__** method.    \n",
    "when using the **with** statement the **\\_\\_enter__** method is called.  \n",
    "What is in the scope is executed and  \n",
    "The **\\_\\_exit__** method is called when leaving the scope.  "
   ]
  },
  {
   "cell_type": "code",
   "execution_count": 1,
   "metadata": {
    "slideshow": {
     "slide_type": "subslide"
    }
   },
   "outputs": [],
   "source": [
    "class OpenFile():\n",
    "    def __init__(self, filename, mode):\n",
    "        self.filename = filename\n",
    "        self.mode = mode\n",
    "\n",
    "    def __enter__(self):\n",
    "        print('__enter__')\n",
    "        self.file = open(self.filename, self.mode)\n",
    "        return self.file\n",
    "\n",
    "    def __exit__(self, *args):\n",
    "        print('__exit__')\n",
    "        self.file.close()"
   ]
  },
  {
   "cell_type": "code",
   "execution_count": 2,
   "metadata": {},
   "outputs": [
    {
     "name": "stdout",
     "output_type": "stream",
     "text": [
      "__enter__\n",
      "An expert is a person who has made all the mistakes that can be made in a very narrow field.\n",
      "\n",
      "__exit__\n"
     ]
    }
   ],
   "source": [
    "with OpenFile('testfiles/bohr.txt', 'r') as f:\n",
    "    print(f.readline())\n"
   ]
  },
  {
   "cell_type": "markdown",
   "metadata": {},
   "source": [
    "## ex 2:"
   ]
  },
  {
   "cell_type": "code",
   "execution_count": 88,
   "metadata": {},
   "outputs": [],
   "source": [
    "class Makeparagraph:\n",
    "    def __enter__(self):\n",
    "        print('<p>')\n",
    "    def __exit__(self, *args ):\n",
    "        print('</p>')"
   ]
  },
  {
   "cell_type": "code",
   "execution_count": 89,
   "metadata": {},
   "outputs": [
    {
     "name": "stdout",
     "output_type": "stream",
     "text": [
      "<p>\n",
      "Hello World\n",
      "</p>\n"
     ]
    }
   ],
   "source": [
    "with Makeparagraph() as f:\n",
    "    print('Hello World')\n",
    "    \n"
   ]
  },
  {
   "cell_type": "code",
   "execution_count": 93,
   "metadata": {},
   "outputs": [
    {
     "name": "stdout",
     "output_type": "stream",
     "text": [
      "<p>\n",
      "Hello world\n",
      "</p>\n"
     ]
    }
   ],
   "source": [
    "def paragraph(func):\n",
    "    def wrapper(*args):\n",
    "        print('<p>')\n",
    "        func(*args)\n",
    "        print('</p>')\n",
    "        \n",
    "    return wrapper   \n",
    "\n",
    "@paragraph\n",
    "def msg():\n",
    "    print('Hello world')\n",
    "    \n",
    "msg()"
   ]
  },
  {
   "cell_type": "markdown",
   "metadata": {
    "slideshow": {
     "slide_type": "slide"
    }
   },
   "source": [
    "### contextlib\n",
    "The contextlib module consists of different context managers.  \n",
    "We will look at 1 of them.  \n",
    "\n",
    "**@contextmanager**\n",
    "> A decorator that lest you build a context manager from a simple generator function, instead of creating a class and implementing the protocol.  "
   ]
  },
  {
   "cell_type": "code",
   "execution_count": 113,
   "metadata": {
    "slideshow": {
     "slide_type": "subslide"
    }
   },
   "outputs": [
    {
     "name": "stdout",
     "output_type": "stream",
     "text": [
      "Cælaus \n",
      "\n",
      "Claus\n"
     ]
    }
   ],
   "source": [
    "from contextlib import contextmanager\n",
    "\n",
    "@contextmanager\n",
    "def open_file(filename, mode):\n",
    "    f = open(filename, mode)\n",
    "    yield f\n",
    "    f.close()\n",
    "        \n",
    "\n",
    "with open_file('bohr.txt', 'r') as f:\n",
    "    print(f.read())\n",
    "    \n"
   ]
  },
  {
   "cell_type": "code",
   "execution_count": 5,
   "metadata": {},
   "outputs": [],
   "source": [
    "from contextlib import contextmanager\n",
    "\n",
    "@contextmanager\n",
    "def create_tbl(cur):\n",
    "    try: \n",
    "        cur.execute('CREATE TABLE students(id int PRIMARY KEY, name text, cpr text)')\n",
    "        yield\n",
    "    finally:\n",
    "        cur.execute('DROP TABLE students')"
   ]
  },
  {
   "cell_type": "code",
   "execution_count": 6,
   "metadata": {},
   "outputs": [
    {
     "name": "stdout",
     "output_type": "stream",
     "text": [
      "(1, 'Claus', '223344-5566')\n",
      "(2, 'Julie', '111111-1111')\n",
      "(3, 'Hannah', '222222-2222')\n"
     ]
    }
   ],
   "source": [
    "from sqlite3 import connect\n",
    "\n",
    "with connect('school.db') as conn:\n",
    "    cur = conn.cursor()\n",
    "    with create_tbl(cur):\n",
    "            \n",
    "        #cur.execute('CREATE TABLE students(id int PRIMARY KEY, name text, cpr text)')\n",
    "        cur.execute('INSERT INTO students(id, name, cpr) VALUES (1, \"Claus\", \"223344-5566\")')\n",
    "        cur.execute('INSERT INTO students(id, name, cpr) VALUES (2, \"Julie\", \"111111-1111\")')\n",
    "        cur.execute('INSERT INTO students(id, name, cpr) VALUES (3, \"Hannah\", \"222222-2222\")')\n",
    "\n",
    "        for i in cur.execute('SELECT * FROM students'):\n",
    "             print(i)\n",
    "\n",
    "        #cur.execute('DROP TABLE students')"
   ]
  },
  {
   "cell_type": "code",
   "execution_count": null,
   "metadata": {},
   "outputs": [],
   "source": []
  },
  {
   "cell_type": "code",
   "execution_count": null,
   "metadata": {},
   "outputs": [],
   "source": []
  }
 ],
 "metadata": {
  "kernelspec": {
   "display_name": "Python 3",
   "language": "python",
   "name": "python3"
  },
  "language_info": {
   "codemirror_mode": {
    "name": "ipython",
    "version": 3
   },
   "file_extension": ".py",
   "mimetype": "text/x-python",
   "name": "python",
   "nbconvert_exporter": "python",
   "pygments_lexer": "ipython3",
   "version": "3.8.5"
  },
  "toc": {
   "base_numbering": 1,
   "nav_menu": {
    "height": "94px",
    "width": "248px"
   },
   "number_sections": true,
   "sideBar": true,
   "skip_h1_title": true,
   "title_cell": "Table of Contents",
   "title_sidebar": "Contents",
   "toc_cell": false,
   "toc_position": {},
   "toc_section_display": true,
   "toc_window_display": false
  }
 },
 "nbformat": 4,
 "nbformat_minor": 2
}
