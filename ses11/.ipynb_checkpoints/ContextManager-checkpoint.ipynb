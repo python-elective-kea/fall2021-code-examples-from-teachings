{
 "cells": [
  {
   "cell_type": "markdown",
   "metadata": {},
   "source": [
    "# Context Manager"
   ]
  },
  {
   "cell_type": "code",
   "execution_count": 6,
   "metadata": {},
   "outputs": [],
   "source": [
    "from sqlite3 import connect"
   ]
  },
  {
   "cell_type": "code",
   "execution_count": 8,
   "metadata": {},
   "outputs": [
    {
     "name": "stdout",
     "output_type": "stream",
     "text": [
      "('Claus', 2121)\n"
     ]
    }
   ],
   "source": [
    "with connect('school.db') as conn:\n",
    "    cur = conn.cursor()\n",
    "    cur.execute('CREATE TABLE students(name varchar, cpr int)')\n",
    "    cur.execute('INSERT INTO students(name, cpr) VALUES(\"Claus\", 2121)')\n",
    "    for row in cur.execute('SELECT * FROM students'):\n",
    "        print(row)\n",
    "\n",
    "    cur.execute('DROP TABLE students')\n",
    "\n",
    "# setup and teardown action:\n",
    "# * open connection to db\n",
    "# * close connection to db\n",
    "#\n",
    "# * create a table\n",
    "# * drop table"
   ]
  },
  {
   "cell_type": "markdown",
   "metadata": {},
   "source": [
    "## explanation"
   ]
  },
  {
   "cell_type": "code",
   "execution_count": 9,
   "metadata": {},
   "outputs": [],
   "source": [
    "# with means ...\n",
    "\n",
    "# x = contxtmanager.__enter__()\n",
    "# try:\n",
    "#    pass     # do somthing\n",
    "# finally:\n",
    "#    x.__exit__()"
   ]
  },
  {
   "cell_type": "markdown",
   "metadata": {},
   "source": [
    "### Temptaple contextmanager\n",
    "Class with and \\_\\_enter\\_\\_() and \\_\\_exit\\_\\_() method.    \n",
    "**enter** takes care of creating a table in the db.    \n",
    "**exit** takes care of dropping the table before exiting the program."
   ]
  },
  {
   "cell_type": "code",
   "execution_count": 22,
   "metadata": {},
   "outputs": [],
   "source": [
    "class ContextManager:\n",
    "    def __init__(self, cur):\n",
    "        self.cur = cur\n",
    "    def __enter__(self):\n",
    "        print('__enter__')\n",
    "        self.cur.execute('CREATE TABLE students(name varchar, cpr int)')\n",
    "    def __exit__(self, *args):\n",
    "        print('__exit__')\n",
    "        self.cur.execute('DROP TABLE students')"
   ]
  },
  {
   "cell_type": "code",
   "execution_count": 23,
   "metadata": {},
   "outputs": [
    {
     "name": "stdout",
     "output_type": "stream",
     "text": [
      "__enter__\n",
      "first line\n",
      "('Claus', 2121)\n",
      "last line\n",
      "__exit__\n"
     ]
    }
   ],
   "source": [
    "with connect('school.db') as conn:\n",
    "    cur = conn.cursor()\n",
    "    with ContextManager(cur):  # use the contextmanager , with calls the enter method\n",
    "        print('first line')\n",
    "        cur.execute('INSERT INTO students(name, cpr) VALUES(\"Claus\", 2121)')\n",
    "        for row in cur.execute('SELECT * FROM students'):\n",
    "            print(row)\n",
    "        print('last line')\n",
    "    # end - __exit__ is executed"
   ]
  },
  {
   "cell_type": "markdown",
   "metadata": {},
   "source": [
    "## explanation"
   ]
  },
  {
   "cell_type": "markdown",
   "metadata": {},
   "source": [
    "Enter and exit should be called in the right order.    \n",
    "There is some sequencing going on.     \n",
    "That suggest that we can and do use a generator.     \n",
    "\n",
    "So i can create a generator that i use to make sure that enter and exit are called in the right order.    \n",
    "So instead of calling the contextmanager (Temptable) dirrectly i call it through a generator which gives me the right sequens."
   ]
  },
  {
   "cell_type": "code",
   "execution_count": 95,
   "metadata": {},
   "outputs": [],
   "source": [
    "# generator function\n",
    "def temptable(cur):\n",
    "    print('Table created')\n",
    "    cur.execute('CREATE TABLE students(name varchar, cpr int)')\n",
    "    yield\n",
    "    cur.execute('DROP TABLE students')\n",
    "    print('Table dropped')"
   ]
  },
  {
   "cell_type": "code",
   "execution_count": 98,
   "metadata": {},
   "outputs": [],
   "source": [
    "# Context Manager\n",
    "class ContextManager:\n",
    "    def __init__(self, gen, cur):\n",
    "        self.gen = gen\n",
    "        self.cur = cur\n",
    "    \n",
    "    def __enter__(self):\n",
    "        \n",
    "        self.gen_obj = self.gen(self.cur)\n",
    "        next(self.gen_obj)\n",
    "   \n",
    "    def __exit__(self, *args):\n",
    "        \n",
    "        next(self.gen_obj, None)"
   ]
  },
  {
   "cell_type": "code",
   "execution_count": 99,
   "metadata": {},
   "outputs": [
    {
     "name": "stdout",
     "output_type": "stream",
     "text": [
      "Table created\n",
      "first line\n",
      "('Claus', 2121)\n",
      "last line\n",
      "Table dropped\n"
     ]
    }
   ],
   "source": [
    "with connect('school.db') as conn:\n",
    "    cur = conn.cursor()\n",
    "    with ContextManager(temptable, cur):  # use the contextmanager , with calls the enter method\n",
    "        print('first line')\n",
    "        cur.execute('INSERT INTO students(name, cpr) VALUES(\"Claus\", 2121)')\n",
    "        for row in cur.execute('SELECT * FROM students'):\n",
    "            print(row)\n",
    "        print('last line')\n",
    "    # end - __exit__ is executed"
   ]
  },
  {
   "cell_type": "code",
   "execution_count": null,
   "metadata": {},
   "outputs": [],
   "source": []
  }
 ],
 "metadata": {
  "kernelspec": {
   "display_name": "Python 3",
   "language": "python",
   "name": "python3"
  },
  "language_info": {
   "codemirror_mode": {
    "name": "ipython",
    "version": 3
   },
   "file_extension": ".py",
   "mimetype": "text/x-python",
   "name": "python",
   "nbconvert_exporter": "python",
   "pygments_lexer": "ipython3",
   "version": "3.8.5"
  }
 },
 "nbformat": 4,
 "nbformat_minor": 4
}
